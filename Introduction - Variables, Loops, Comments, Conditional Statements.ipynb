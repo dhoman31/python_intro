{
 "cells": [
  {
   "cell_type": "markdown",
   "metadata": {},
   "source": [
    "# Python Intro"
   ]
  },
  {
   "cell_type": "markdown",
   "metadata": {},
   "source": [
    "The main concepts of Python can be narrowed down to 4 parts: variables (store information), methods (contains lines of code to execute) , classes (contain methods and variables that create objects) and objects (Either real-world things or imaginary things that code can represent - this will make sense later)."
   ]
  },
  {
   "cell_type": "markdown",
   "metadata": {},
   "source": [
    "# Comments\n",
    "Something I didn't mention earlier are comments. Comments are pieces of text that the programmer can write in the code which will not be run by the machine. The interpreter (what reads the code and runs it) will ignore comments.\n",
    "\n",
    "Comments come in two types. Single line and multi-line. Single line comments can be created by placing a '#' in front of any piece of text you want."
   ]
  },
  {
   "cell_type": "code",
   "execution_count": 2,
   "metadata": {},
   "outputs": [],
   "source": [
    "# This code creates a variable 'a' and store 5 in it\n",
    "a = 5"
   ]
  },
  {
   "cell_type": "markdown",
   "metadata": {},
   "source": [
    "Finally, there's multi-line. These take 3 double quotes before and after whatever it is you want to write. This is a use for these but that's for when you start creating larger projects. For now, think of it as two ways of making notes in your code for either yourself to know what you wrote, or for other people to know what your code does."
   ]
  },
  {
   "cell_type": "code",
   "execution_count": 3,
   "metadata": {},
   "outputs": [
    {
     "data": {
      "text/plain": [
       "'\\n    I am a multi-line comment, I can keep writing and writing\\n    and I nothing in her will be run by the interpreter.\\n'"
      ]
     },
     "execution_count": 3,
     "metadata": {},
     "output_type": "execute_result"
    }
   ],
   "source": [
    "\"\"\"\n",
    "    I am a multi-line comment, I can keep writing and writing\n",
    "    and I nothing in here will be run by the interpreter.\n",
    "\"\"\""
   ]
  },
  {
   "cell_type": "markdown",
   "metadata": {},
   "source": [
    "Earlier today I showed you how to print things to the screen. If you ever want to put something on the screen. Just write 'print()'with what ever you want to print written inside. \n",
    "\n",
    "Printing creates a new line after each time it's used. If you want to have multiple lines used when printing instead of printing a one long line, insert '\\n' at the area where you want the new line to begin. \n",
    "\n",
    "Also, make sure you add spaces to your print statements where you feel it's relevant."
   ]
  },
  {
   "cell_type": "code",
   "execution_count": 5,
   "metadata": {},
   "outputs": [
    {
     "name": "stdout",
     "output_type": "stream",
     "text": [
      "Hello World\n"
     ]
    }
   ],
   "source": [
    "print(\"Hello World\")"
   ]
  },
  {
   "cell_type": "markdown",
   "metadata": {},
   "source": [
    "# Variables\n",
    "Variables are just items which hold some pieces of data we want to use. \n",
    "\n",
    "Several types of variables:\n",
    "1. **Integers** - These are whole numbers e.g. 10, 10000, 24\n",
    "2. **Floats** - These are decimal point numbers, e.g. 5.6, 9.2\n",
    "3. **Strings** - These are a collection of numbers or letters, e.g. \"Hello2 5\"\n",
    "4. **Booleans** - These are True or False values."
   ]
  },
  {
   "cell_type": "code",
   "execution_count": 7,
   "metadata": {},
   "outputs": [],
   "source": [
    "a = 5\n",
    "b = 5.6\n",
    "name = 'Sab'\n",
    "college = \"DCU\"\n",
    "# notice that strings can be made using either double or single quotes - doesn't matter which you use\n",
    "# so long as the end quote type matches the initial starting quote type"
   ]
  },
  {
   "cell_type": "markdown",
   "metadata": {},
   "source": [
    "Variables have naming rules. You can only name them something that doesn't contain a 'keyword'. Keywords in a programming language are words that are used by the programming language itself which are native to it and that the user should not use.\n",
    "'print' is an example of this.\n",
    "\n",
    "Variables should also never have a number or certain symbols in them. This is due to either the symbols being used elsewhere in the language (such as a quote)."
   ]
  },
  {
   "cell_type": "code",
   "execution_count": 8,
   "metadata": {},
   "outputs": [
    {
     "ename": "SyntaxError",
     "evalue": "invalid syntax (<ipython-input-8-f29922584c9b>, line 1)",
     "output_type": "error",
     "traceback": [
      "\u001b[1;36m  File \u001b[1;32m\"<ipython-input-8-f29922584c9b>\"\u001b[1;36m, line \u001b[1;32m1\u001b[0m\n\u001b[1;33m    1dlan = 5\u001b[0m\n\u001b[1;37m        ^\u001b[0m\n\u001b[1;31mSyntaxError\u001b[0m\u001b[1;31m:\u001b[0m invalid syntax\n"
     ]
    }
   ],
   "source": [
    "1dlan = 5 # this will give an invalid syntax error since it begins with a 1. "
   ]
  },
  {
   "cell_type": "markdown",
   "metadata": {},
   "source": [
    "The reason the above fails is because when Python encounters a number, it's expecting to place that in a variable. Whenever you 'assign' a value to a variable such as assigning 5 to the variable 'a', make sure that it never begins with a number. You figure out other things you can't do with naming as you try it out.\n",
    "\n",
    "Name casing is something you should maintain. 2 Types of name casing: snake case and camel case. Snake case takes the form \n",
    "'im_a_variable. This is how you should name variables with long names or methods. When you look a classes in the future, the standard for Python is camel case which is 'DogAndCat'. It doesn't effect the code which styling convention you use but for Python, this the format you should follow."
   ]
  },
  {
   "cell_type": "markdown",
   "metadata": {},
   "source": [
    "# Operators\n",
    "Operators come in 2 forms: **Arithmetic** operators and **logical** operators.\n",
    "\n",
    "Arithmetics are your standard **+**, **-**, ***** (multiply), **/** (divide) and **%** (modulus - I'll get to this one)\n",
    "Logical are: 'and', 'not' and 'or'\n",
    "\n",
    "You may or may not have seen modulus from doing C programming. Modulus returns the remainder of two values. If we look at 5 and 3. We know that they don't divide evenly and there's a remainder of 2. So if we write **5%3 (5 modulo 3)** we'll get **2** as our result."
   ]
  },
  {
   "cell_type": "code",
   "execution_count": 9,
   "metadata": {},
   "outputs": [
    {
     "data": {
      "text/plain": [
       "2"
      ]
     },
     "execution_count": 9,
     "metadata": {},
     "output_type": "execute_result"
    }
   ],
   "source": [
    "5%3"
   ]
  },
  {
   "cell_type": "markdown",
   "metadata": {},
   "source": [
    "**DOUBLE CLICK IN HERE to see the values more clearly**\n",
    "\n",
    "You can use modulus for simple things like finding if a number is even or odd to more complex functions.\n",
    "\n",
    "Locigcal Operators are the same as in engineering. Easiest example is NOT.\n",
    "NOT will make something the opposite. So if I say NOT True, then the answer is False and vice versa. These will be used later on in loops.\n",
    "\n",
    "AND: And has a simple rule, only is all the results are true, is the answer true. Take two variables A & B. We'll use 1s to represent they're true and 0 when false.\n",
    "\n",
    "A   B   Answer\n",
    "\n",
    "0   0     0\n",
    "\n",
    "0   1     0\n",
    "\n",
    "1   0     0 \n",
    "\n",
    "1   1     1\n",
    "\n",
    "OR: Or is a more leanent version of AND. It only requires one of the outcomes to be true for a statement to be true.\n",
    "\n",
    "A   B   Answer\n",
    "\n",
    "0   0     0\n",
    "\n",
    "0   1     1\n",
    "\n",
    "1   0     1 \n",
    "\n",
    "1   1     1\n",
    "\n",
    "See that both statements being True can result in the result being True.\n",
    "\n",
    "**Logical Operator Examples:** \n",
    "\n",
    "**not** True gives the output False \n",
    "\n",
    "True **or** False gives the output True\n",
    "\n",
    "True **and** False gives the output False\n",
    "\n",
    "Something important to know are greater-than, less-than and quivalence. Like standard maths you can check if one number is greater than another by simpling entering x>y (the answer will say true). This is also the case for checking if two or more values equal each other. To see if values equal you use '=='. This tells Python you want to see if the values equal, one '=' says you want to assign a value to a variable like 'a=5'.\n",
    "\n",
    "**Comparison operators** - they're in quotes to be shown correctly in Jupyter\n",
    "\n",
    "'>'\n",
    "\n",
    "'<'\n",
    "\n",
    "'>='\n",
    "\n",
    "'<='\n",
    "\n",
    "'=='"
   ]
  },
  {
   "cell_type": "code",
   "execution_count": 10,
   "metadata": {},
   "outputs": [
    {
     "data": {
      "text/plain": [
       "True"
      ]
     },
     "execution_count": 10,
     "metadata": {},
     "output_type": "execute_result"
    }
   ],
   "source": [
    "5>3"
   ]
  },
  {
   "cell_type": "code",
   "execution_count": 11,
   "metadata": {},
   "outputs": [
    {
     "data": {
      "text/plain": [
       "False"
      ]
     },
     "execution_count": 11,
     "metadata": {},
     "output_type": "execute_result"
    }
   ],
   "source": [
    "6<2"
   ]
  },
  {
   "cell_type": "markdown",
   "metadata": {},
   "source": [
    "# If Else Statements (and Else If)\n",
    "\n",
    "These are conditional statements that follow a simple structure. If something is true, it executes one piece of code, else the other piece of code executes. Reminder of the example used earlier. Let's check to see if a number equals 2. \n",
    "\n",
    "We'll set a value to a variable and then print something to the screen depending on the result.\n",
    "\n",
    "These are done in the form\n",
    "\n",
    "if condition:\n",
    "    something\n",
    "else:\n",
    "    something"
   ]
  },
  {
   "cell_type": "code",
   "execution_count": 12,
   "metadata": {},
   "outputs": [
    {
     "name": "stdout",
     "output_type": "stream",
     "text": [
      "X is equal to 2\n"
     ]
    }
   ],
   "source": [
    "x = 2\n",
    "\n",
    "if x==2:\n",
    "    print(\"X is equal to 2\")\n",
    "else:\n",
    "    print(\"X is not 2\")"
   ]
  },
  {
   "cell_type": "markdown",
   "metadata": {},
   "source": [
    "**Something important to note is the indenting** (I mentioned it earlier). If you want to say that something belongs to something, after your colon, whatever belongs to it needs to be indented under it.\n",
    "\n",
    "You can bulk up the code by adding Else If conditions which allow you to interrogate the values more."
   ]
  },
  {
   "cell_type": "code",
   "execution_count": 13,
   "metadata": {},
   "outputs": [
    {
     "name": "stdout",
     "output_type": "stream",
     "text": [
      "2\n"
     ]
    }
   ],
   "source": [
    "if x == 1:\n",
    "    print(1)\n",
    "elif x==2:\n",
    "    print(2)\n",
    "else:\n",
    "    print(\"I don't know!\")"
   ]
  },
  {
   "cell_type": "markdown",
   "metadata": {},
   "source": [
    "Earlier I mentioned that it's important to place your condition checking in the \"correct order\" i.e. make sure it will run the way you want it to. If you place something in the wrong area, you can end up with results you don't want.\n",
    "\n",
    "Say we have y = 4. We want to print \"I got a 4\" if y == 4 and if it's between a certain range we want it to print something else."
   ]
  },
  {
   "cell_type": "code",
   "execution_count": 14,
   "metadata": {},
   "outputs": [
    {
     "name": "stdout",
     "output_type": "stream",
     "text": [
      "Greater than 3 and greater less than 6\n"
     ]
    }
   ],
   "source": [
    "y = 4\n",
    "\n",
    "# you can also see how the logical operators are working, if both are true then the block of code runs.\n",
    "if y>3 and y<6:\n",
    "    print(\"Greater than 3 and greater less than 6\")\n",
    "elif y == 4:\n",
    "    print(\"I got a 4\")\n",
    "else:\n",
    "    print(\"Ugh, I don't like numbers greater than 6 or less than 3\")\n",
    "    "
   ]
  },
  {
   "cell_type": "markdown",
   "metadata": {},
   "source": [
    "As you see we got a different answer to what we wanted. If we switch the options though we can get the answer we want."
   ]
  },
  {
   "cell_type": "code",
   "execution_count": 16,
   "metadata": {},
   "outputs": [
    {
     "name": "stdout",
     "output_type": "stream",
     "text": [
      "I got a 4\n"
     ]
    }
   ],
   "source": [
    "if y==4:\n",
    "    print(\"I got a 4\")\n",
    "elif y>3 and y<6:\n",
    "    print(\"Greater than 3 and greater less than 6\")\n",
    "else:\n",
    "    print(\"Ugh, I don't like numbers greater than 6 or less than 3\")\n",
    "    "
   ]
  },
  {
   "cell_type": "markdown",
   "metadata": {},
   "source": [
    "Earlier, you mentioned nesting. Nesting is something we can do with if statements. It's just having one if else statement inside of another."
   ]
  },
  {
   "cell_type": "code",
   "execution_count": 17,
   "metadata": {},
   "outputs": [
    {
     "name": "stdout",
     "output_type": "stream",
     "text": [
      "it's 9\n"
     ]
    }
   ],
   "source": [
    "x = 9\n",
    "\n",
    "if x<=10:\n",
    "    if x==9:\n",
    "        print(\"it's 9\")\n",
    "else:\n",
    "    print(\"A value greater than 10\")"
   ]
  },
  {
   "cell_type": "markdown",
   "metadata": {},
   "source": [
    "Notice that we don't have an else statement for the inner statement set. When writing if else statements, we don't actually need something to happen if we don't want. So if it's not necessary to have it then leave it. If you want it in but to do nothing there's a keyword called 'pass'. pass means do nothing."
   ]
  },
  {
   "cell_type": "code",
   "execution_count": 18,
   "metadata": {},
   "outputs": [],
   "source": [
    "if x==9:\n",
    "    pass\n",
    "else:\n",
    "    print(\"not 9\")"
   ]
  },
  {
   "cell_type": "markdown",
   "metadata": {},
   "source": [
    "We get no output from the above because we told it to not do anything. This is an example where you may want to use a pass statement.\n",
    "\n",
    "\n",
    "# Printing\n",
    "\n",
    "Print is something that is simple. You can print out a value or a piece of text (we've been giving it strings so far). We can print out variables on their own."
   ]
  },
  {
   "cell_type": "code",
   "execution_count": 19,
   "metadata": {},
   "outputs": [
    {
     "name": "stdout",
     "output_type": "stream",
     "text": [
      "5\n",
      "Sab\n"
     ]
    }
   ],
   "source": [
    "print(a)\n",
    "print(name)"
   ]
  },
  {
   "cell_type": "markdown",
   "metadata": {},
   "source": [
    "What if we want to combine them?"
   ]
  },
  {
   "cell_type": "code",
   "execution_count": 20,
   "metadata": {},
   "outputs": [
    {
     "ename": "TypeError",
     "evalue": "unsupported operand type(s) for +: 'int' and 'str'",
     "output_type": "error",
     "traceback": [
      "\u001b[1;31m---------------------------------------------------------------------------\u001b[0m",
      "\u001b[1;31mTypeError\u001b[0m                                 Traceback (most recent call last)",
      "\u001b[1;32m<ipython-input-20-b2eb7434657a>\u001b[0m in \u001b[0;36m<module>\u001b[1;34m()\u001b[0m\n\u001b[1;32m----> 1\u001b[1;33m \u001b[0mprint\u001b[0m\u001b[1;33m(\u001b[0m\u001b[0ma\u001b[0m \u001b[1;33m+\u001b[0m \u001b[1;34m\" \"\u001b[0m \u001b[1;33m+\u001b[0m \u001b[0mname\u001b[0m\u001b[1;33m)\u001b[0m\u001b[1;33m\u001b[0m\u001b[0m\n\u001b[0m",
      "\u001b[1;31mTypeError\u001b[0m: unsupported operand type(s) for +: 'int' and 'str'"
     ]
    }
   ],
   "source": [
    "print(a + \" \" + name)"
   ]
  },
  {
   "cell_type": "markdown",
   "metadata": {},
   "source": [
    "**Side note:** if you want to print things together, you use the '+' sign. It treats it as something called concatenation which means joining. The above says join a to a space and after the space join name. But there's an error. Why? \n",
    "\n",
    "Earlier I mentioned it's because Python can only print out one or the other. An int/float or a string, not both. To fix this we need to 'cast' the integer value into a string."
   ]
  },
  {
   "cell_type": "code",
   "execution_count": 21,
   "metadata": {},
   "outputs": [
    {
     "name": "stdout",
     "output_type": "stream",
     "text": [
      "5 Sab\n"
     ]
    }
   ],
   "source": [
    "print(str(a) + \" \" + name)"
   ]
  },
  {
   "cell_type": "markdown",
   "metadata": {},
   "source": [
    "These casting types are available for floats and integers. \n",
    "str() - converts value to a string.\n",
    "int() - converts value to an integer but rounds the number down.\n",
    "float() - conversts the value into a decimal value."
   ]
  },
  {
   "cell_type": "code",
   "execution_count": 22,
   "metadata": {},
   "outputs": [
    {
     "data": {
      "text/plain": [
       "5"
      ]
     },
     "execution_count": 22,
     "metadata": {},
     "output_type": "execute_result"
    }
   ],
   "source": [
    "int(5.6)"
   ]
  },
  {
   "cell_type": "code",
   "execution_count": 23,
   "metadata": {},
   "outputs": [
    {
     "data": {
      "text/plain": [
       "8.0"
      ]
     },
     "execution_count": 23,
     "metadata": {},
     "output_type": "execute_result"
    }
   ],
   "source": [
    "float(8)"
   ]
  },
  {
   "cell_type": "code",
   "execution_count": 24,
   "metadata": {},
   "outputs": [
    {
     "data": {
      "text/plain": [
       "'5.6'"
      ]
     },
     "execution_count": 24,
     "metadata": {},
     "output_type": "execute_result"
    }
   ],
   "source": [
    "str(5.6)"
   ]
  },
  {
   "cell_type": "markdown",
   "metadata": {},
   "source": [
    "We can see the string version of the number is a string due to it having quotes around it.\n",
    "\n",
    "# Don't Freak About Errors!\n",
    "\n",
    "Errors are your best friend when it comes to coding, it will tell you there's something wrong with it and it's usually helpful telling you what the problem is and where it's located. So if you ever get one, read what it is. If you can't figure it out, take the good ole IT tip and copy the error into Google and see what results you get back on solving it!\n",
    "\n",
    "# Loops\n",
    "\n",
    "You saw these before in C and earlier when we worked through it and probably know it enough. \n",
    "\n",
    "There's 2 types in Python: While and For loops.\n",
    "\n",
    "Each follows the same principles but go about it in slightly different ways. Loops just run a piece of code many times - it saves time having to rewrite a piece of code the same amount of times that we want it to run, instead we only have to write it once.\n",
    "\n",
    "While loops are the ones people make many mistakes with but it's actually a very easy thing to use. Mostly, you'll see for loops used in Python programs or any other type of program (C, C++, Java, C#).\n",
    "\n",
    "**Structure**\n",
    "while condition:\n",
    "    something\n",
    "    \n",
    "'while' is a keyword in Python, the same as 'for' or 'print'. You can't name a data structure or variable this. \n",
    "\n",
    "The Structure simply says while some condition is true, I want you to run something. That something will **only** run with a True condition. The basic example is print 1 to 10 which we did earlier."
   ]
  },
  {
   "cell_type": "code",
   "execution_count": 3,
   "metadata": {},
   "outputs": [
    {
     "name": "stdout",
     "output_type": "stream",
     "text": [
      "1\n",
      "2\n",
      "3\n",
      "4\n",
      "5\n",
      "6\n",
      "7\n",
      "8\n",
      "9\n",
      "10\n"
     ]
    }
   ],
   "source": [
    "i = 1\n",
    "\n",
    "while i<=10:\n",
    "    print(i)\n",
    "    i+=1"
   ]
  },
  {
   "cell_type": "markdown",
   "metadata": {},
   "source": [
    "Stepping through the code shows that we made a variable, assigning it the value 1. We then told Python, while 'i' (our variable which can be called anything we wanted - common standard to use 'i') is less than or equal to 10 I want you to print the current value of 'i' to the screen. Once this is done, you must increment the value of 'i' by 1. \n",
    "\n",
    "It's important to note that we had to create a variable and define it with a value. This is because a while loop will only work with values that already exist!\n",
    "\n",
    "**Why?**\n",
    "\n",
    "We need to increment the value because if we don't then the value of 'i' will never increase meaning that we will have an infinite loop. This is the most common problem people have it while loops and why people don't use them. While loops can also be difficult to stop running once started - perhaps even crashing the IDE, or explorer.exe on Windows.\n",
    "\n",
    "Next we have the for loop.\n",
    "\n",
    "The for loop will have the same 1 to 10 solution as above. This will be a little different.\n",
    "\n",
    "For loops can use function called range(). range() will allow you to set a working range of values that you can use. This means that you don't have to set a value to 'i' before opening the for loop. You can initiate the value in the loop and then each time the loop runs, it will increment the value for you. It's two birds with the one stone - you don't need to worry about initiating a value and you don't have to worry about incrementing the condition variable."
   ]
  },
  {
   "cell_type": "code",
   "execution_count": 4,
   "metadata": {},
   "outputs": [
    {
     "name": "stdout",
     "output_type": "stream",
     "text": [
      "1\n",
      "2\n",
      "3\n",
      "4\n",
      "5\n",
      "6\n",
      "7\n",
      "8\n",
      "9\n",
      "10\n"
     ]
    }
   ],
   "source": [
    "for k in range(1,11):\n",
    "    print(k)"
   ]
  },
  {
   "cell_type": "markdown",
   "metadata": {},
   "source": [
    "Stepping through the loop above shows we have some k value and it's going to move between the range of 1 and 11. It includes 1 as it's starting point and 11 as it's end point but it's exclusive of it's destination value meaning it will never run that last defined value, only everything before that.\n",
    "\n",
    "More commonly this will be written as:"
   ]
  },
  {
   "cell_type": "code",
   "execution_count": 5,
   "metadata": {},
   "outputs": [
    {
     "name": "stdout",
     "output_type": "stream",
     "text": [
      "0\n",
      "1\n",
      "2\n",
      "3\n",
      "4\n",
      "5\n",
      "6\n",
      "7\n",
      "8\n",
      "9\n",
      "10\n"
     ]
    }
   ],
   "source": [
    "for k in range(11):\n",
    "    print(k)"
   ]
  },
  {
   "cell_type": "markdown",
   "metadata": {},
   "source": [
    "**Why?**\n",
    "\n",
    "It's because Python automatically assumes that the default value being used is 0. So if you only give it your end point, Python will always start at 0. There's a reason for this.\n",
    "\n",
    "\n",
    "# User Input\n",
    "\n",
    "Users can enter information which Python can read. It's all done through a method called 'input()' <- this is the Python 3 version. \n",
    "\n",
    "Python 2 equivalent -> raw_input()\n",
    "\n",
    "This example shows how you can get someone to enter some text."
   ]
  },
  {
   "cell_type": "code",
   "execution_count": 9,
   "metadata": {},
   "outputs": [
    {
     "name": "stdout",
     "output_type": "stream",
     "text": [
      "Please enter your nameDaniel\n",
      "Hello Daniel\n"
     ]
    }
   ],
   "source": [
    "a = input(\"Please enter your name\")\n",
    "\n",
    "print(\"Hello\", a)"
   ]
  },
  {
   "cell_type": "markdown",
   "metadata": {},
   "source": [
    "When you use the input method, it allows you to enter text in the parenthesis which you can use to print information to the screen indicating you want a piece of information entered.\n",
    "\n",
    "The print statement prints hello followed by the variable where we stored the text entered. If you noticed that before when writing print statements we had to include a space of our own but here it will put it in for us writing the print this way. The reason we put our own in before is because sometimes you may not get the desired output you're looking for using this method.\n",
    "\n",
    "**Remember** how earlier I said we couldn't use numbers and strings together and we had to turn the number into a string before it could print - while I didn't lie, you can sometimes avoid this using the method above. Again, this is because the method above works in some cases and not all."
   ]
  },
  {
   "cell_type": "code",
   "execution_count": 1,
   "metadata": {},
   "outputs": [
    {
     "name": "stdout",
     "output_type": "stream",
     "text": [
      "Lucky number 7\n"
     ]
    }
   ],
   "source": [
    "x = 7\n",
    "\n",
    "print(\"Lucky number\", x)"
   ]
  },
  {
   "cell_type": "markdown",
   "metadata": {},
   "source": [
    "Something important that you need to know about when working with user input is that everything is taken in as a string in Python. If you ask the user for a number and they enter one, that number stored isn't an integer, it's actually a string."
   ]
  },
  {
   "cell_type": "code",
   "execution_count": 11,
   "metadata": {},
   "outputs": [
    {
     "name": "stdout",
     "output_type": "stream",
     "text": [
      "Enter a whole number7\n"
     ]
    },
    {
     "data": {
      "text/plain": [
       "'7'"
      ]
     },
     "execution_count": 11,
     "metadata": {},
     "output_type": "execute_result"
    }
   ],
   "source": [
    "x = input(\"Enter a whole number\")\n",
    "\n",
    "x"
   ]
  },
  {
   "cell_type": "markdown",
   "metadata": {},
   "source": [
    "We can see that it's a string because of the quotes surrounding the number. There's also a handy tool called type() which can return the type of variable a piece of data is."
   ]
  },
  {
   "cell_type": "code",
   "execution_count": 12,
   "metadata": {},
   "outputs": [
    {
     "data": {
      "text/plain": [
       "str"
      ]
     },
     "execution_count": 12,
     "metadata": {},
     "output_type": "execute_result"
    }
   ],
   "source": [
    "type(x)"
   ]
  },
  {
   "cell_type": "markdown",
   "metadata": {},
   "source": [
    "As you can see, it's a string. So let's turn it into a string like before. I'm going to keep the value the same but I'm going to say I want the value to just become the integer version of that variable."
   ]
  },
  {
   "cell_type": "code",
   "execution_count": 13,
   "metadata": {},
   "outputs": [],
   "source": [
    "x = int(x)"
   ]
  },
  {
   "cell_type": "code",
   "execution_count": 14,
   "metadata": {},
   "outputs": [
    {
     "data": {
      "text/plain": [
       "int"
      ]
     },
     "execution_count": 14,
     "metadata": {},
     "output_type": "execute_result"
    }
   ],
   "source": [
    "type(x)"
   ]
  },
  {
   "cell_type": "code",
   "execution_count": 15,
   "metadata": {},
   "outputs": [
    {
     "data": {
      "text/plain": [
       "7"
      ]
     },
     "execution_count": 15,
     "metadata": {},
     "output_type": "execute_result"
    }
   ],
   "source": [
    "x"
   ]
  },
  {
   "cell_type": "markdown",
   "metadata": {},
   "source": [
    "As you see, the number is now an int. So why was it done like this\n",
    "\n",
    "x = int(x)\n",
    "\n",
    "Why wasn't it done as \n",
    "\n",
    "int(x)\n",
    "\n",
    "The reason is because it doesn't save the value. Yes, you converted the value type of x from a string to an integer but you never saved it meaning that your string will remain a string.\n",
    "\n",
    "**Note:** The type() method can be used when looking at other data structures."
   ]
  },
  {
   "cell_type": "markdown",
   "metadata": {},
   "source": [
    "# Strings\n",
    "\n",
    "Strings, as you've seen before are alphanumeric characters that are between single or double quotes. Strings are important because they can provide useful information in a clean and simple way. Strings are more powerful than just an information store, they have functions associated with them that can allow is to manipulate and work with them at a deeper level.\n",
    "\n",
    "**Indexing**\n",
    "\n",
    "This can be something that takes people learning code for the first time to fully remember. Indexing is a position tracker in a data structure. By knowing the index of a value, it means that we can see what information is held at that index in the data structure.\n",
    "\n",
    "Indexing in Python and **most** programming languages begins at index **0**. This is because some computer scientist considers 0 a real number of measurement even though it's a number not used in the 'real-world' problems. Anyway... \n",
    "\n",
    "**E.g.**\n",
    "\n",
    "I have a string with the value = \"Muse\" (awesome and weird band!!!)\n",
    "\n",
    "Say I want to see what value is at their third index of 'Muse'. Since 'Muse' is a string, it's going to look at the letters of that variable."
   ]
  },
  {
   "cell_type": "code",
   "execution_count": 16,
   "metadata": {},
   "outputs": [
    {
     "name": "stdout",
     "output_type": "stream",
     "text": [
      "s\n"
     ]
    }
   ],
   "source": [
    "band = \"Muse\"\n",
    "\n",
    "print(band[2])"
   ]
  },
  {
   "cell_type": "markdown",
   "metadata": {},
   "source": [
    "As you see, 's' was printed to the screen as that's the third index. Remember that the index starts at 0 so the value at index zero is the first letter 'M'. \n",
    "\n",
    "**Length**\n",
    "\n",
    "Now, say you want to know the length of a string. Could be something you need to know, right? Say I want to see all the locations stored in an Excel file where the countries are only 7 letters long. We can do that with the len() function. **E.g.**"
   ]
  },
  {
   "cell_type": "code",
   "execution_count": 17,
   "metadata": {},
   "outputs": [
    {
     "data": {
      "text/plain": [
       "4"
      ]
     },
     "execution_count": 17,
     "metadata": {},
     "output_type": "execute_result"
    }
   ],
   "source": [
    "len(band)"
   ]
  },
  {
   "cell_type": "markdown",
   "metadata": {},
   "source": [
    "As you can see, it knows that the length of the band is 4. This is where people get caught out with string indexing. While it's true that the length of the string is 4, indexing always starts at 0 so the max index of a variable or other data structures would be the length-1.\n",
    "\n",
    "Let's get the last value of the band name using len()."
   ]
  },
  {
   "cell_type": "code",
   "execution_count": 19,
   "metadata": {},
   "outputs": [
    {
     "name": "stdout",
     "output_type": "stream",
     "text": [
      "e\n"
     ]
    }
   ],
   "source": [
    "print(band[len(band)-1])"
   ]
  },
  {
   "cell_type": "markdown",
   "metadata": {},
   "source": [
    "So... what happened there? \n",
    "\n",
    "Remember how we indexed the positions of the string using these square brackets '[]'? \n",
    "\n",
    "Well, we're saying we want the length of the string (which is 4) and we want to take 1 from that value which gives us 3, the value of the last index. This actually gives you band[3] which is 'e'.\n",
    "\n",
    "**Mutations**\n",
    "\n",
    "Can we change the value within a string?"
   ]
  },
  {
   "cell_type": "code",
   "execution_count": 20,
   "metadata": {},
   "outputs": [
    {
     "ename": "TypeError",
     "evalue": "'str' object does not support item assignment",
     "output_type": "error",
     "traceback": [
      "\u001b[1;31m---------------------------------------------------------------------------\u001b[0m",
      "\u001b[1;31mTypeError\u001b[0m                                 Traceback (most recent call last)",
      "\u001b[1;32m<ipython-input-20-76c9cb314412>\u001b[0m in \u001b[0;36m<module>\u001b[1;34m()\u001b[0m\n\u001b[1;32m----> 1\u001b[1;33m \u001b[0mband\u001b[0m\u001b[1;33m[\u001b[0m\u001b[1;36m1\u001b[0m\u001b[1;33m]\u001b[0m \u001b[1;33m=\u001b[0m \u001b[1;34m'a'\u001b[0m\u001b[1;33m\u001b[0m\u001b[0m\n\u001b[0m",
      "\u001b[1;31mTypeError\u001b[0m: 'str' object does not support item assignment"
     ]
    }
   ],
   "source": [
    "band[1] = 'a'"
   ]
  },
  {
   "cell_type": "markdown",
   "metadata": {},
   "source": [
    "No, and that's because strings are immutable, they can't be changed. We can manipulate them but not change the core values of them. If we want, we can replace the current value of the string to another value."
   ]
  },
  {
   "cell_type": "markdown",
   "metadata": {},
   "source": [
    "**Substring**\n",
    "\n",
    "Substring is when you extract only a certain section of the string. This is done using the indices."
   ]
  },
  {
   "cell_type": "code",
   "execution_count": 21,
   "metadata": {},
   "outputs": [
    {
     "data": {
      "text/plain": [
       "'se'"
      ]
     },
     "execution_count": 21,
     "metadata": {},
     "output_type": "execute_result"
    }
   ],
   "source": [
    "band[2:] # print the value from index 2 onwards"
   ]
  },
  {
   "cell_type": "code",
   "execution_count": 22,
   "metadata": {},
   "outputs": [
    {
     "data": {
      "text/plain": [
       "'llo, W'"
      ]
     },
     "execution_count": 22,
     "metadata": {},
     "output_type": "execute_result"
    }
   ],
   "source": [
    "hello = 'Hello, World'\n",
    "\n",
    "hello[2:8]"
   ]
  },
  {
   "cell_type": "markdown",
   "metadata": {},
   "source": [
    "Here we gave the substring a full range, starting at position 2 and going up as far as 8 but not including it. \n",
    "\n",
    "We can also do the same taking from the beginning to a certain point."
   ]
  },
  {
   "cell_type": "code",
   "execution_count": 23,
   "metadata": {},
   "outputs": [
    {
     "data": {
      "text/plain": [
       "'Hello'"
      ]
     },
     "execution_count": 23,
     "metadata": {},
     "output_type": "execute_result"
    }
   ],
   "source": [
    "hello[:5]"
   ]
  },
  {
   "cell_type": "markdown",
   "metadata": {},
   "source": [
    "**Upper and Lower case**\n",
    "\n",
    "Sometimes we want to work with values are only upper or lower case. For this you use either the upper() or lower() methods. You can also use the isupper() or islower() methods to check if the values are upper or lower case."
   ]
  },
  {
   "cell_type": "code",
   "execution_count": 24,
   "metadata": {},
   "outputs": [
    {
     "data": {
      "text/plain": [
       "'MUSE'"
      ]
     },
     "execution_count": 24,
     "metadata": {},
     "output_type": "execute_result"
    }
   ],
   "source": [
    "band.upper()"
   ]
  },
  {
   "cell_type": "code",
   "execution_count": 25,
   "metadata": {},
   "outputs": [
    {
     "data": {
      "text/plain": [
       "'muse'"
      ]
     },
     "execution_count": 25,
     "metadata": {},
     "output_type": "execute_result"
    }
   ],
   "source": [
    "band.lower()"
   ]
  },
  {
   "cell_type": "code",
   "execution_count": 29,
   "metadata": {},
   "outputs": [
    {
     "name": "stdout",
     "output_type": "stream",
     "text": [
      "Value of x1: True \n",
      "The value of x2: True\n"
     ]
    }
   ],
   "source": [
    "someone = 'mike'\n",
    "someone_else = 'GRACE'\n",
    "\n",
    "x1 = someone.islower()\n",
    "x2 = someone_else.isupper()\n",
    "\n",
    "print(\"Value of x1:\", x1, \"\\nThe value of x2:\", x2)"
   ]
  },
  {
   "cell_type": "markdown",
   "metadata": {},
   "source": [
    "If you're ever practicing code and want to see what other functions you can use on strings, if you are using Jupyer, when you enter your string name and put a '.' after it, hit tab and you will see a list of functions you can use on your string. One you'll see now is split() as this leads into our next topic.\n",
    "\n",
    "# Replace\n",
    "\n",
    "Replace allows us to replace the values in our string with another. Say I want to remove all blank spaces in a string, we can easily do that with the following:"
   ]
  },
  {
   "cell_type": "code",
   "execution_count": 30,
   "metadata": {},
   "outputs": [
    {
     "data": {
      "text/plain": [
       "'Someawesomepieceoftext'"
      ]
     },
     "execution_count": 30,
     "metadata": {},
     "output_type": "execute_result"
    }
   ],
   "source": [
    "stringy = \"Some awesome piece of text\"\n",
    "\n",
    "stringy.replace(' ','')"
   ]
  },
  {
   "cell_type": "markdown",
   "metadata": {},
   "source": [
    "' ' represents the blank space, '' represents no space. So replace takes the first value being the one you want to replace, and the second what it will become."
   ]
  },
  {
   "cell_type": "code",
   "execution_count": 31,
   "metadata": {},
   "outputs": [
    {
     "data": {
      "text/plain": [
       "'Some -wesome piece of text'"
      ]
     },
     "execution_count": 31,
     "metadata": {},
     "output_type": "execute_result"
    }
   ],
   "source": [
    "stringy.replace('a', '-')"
   ]
  },
  {
   "cell_type": "markdown",
   "metadata": {},
   "source": [
    "Now we replaced the 'a' with a '-'. This can be helpful when cleaning up information later or even cooler, creating programs that sort and organise files on your computer into a format you want.\n",
    "\n",
    "# Splitting\n",
    "\n",
    "String splitting will take a string and break it up into multiple parts based on where you want the string to break.\n",
    "\n",
    "Say I have a string with loads of 'a's. I can break the string into chunks seperated when we get an 'a'."
   ]
  },
  {
   "cell_type": "code",
   "execution_count": 33,
   "metadata": {},
   "outputs": [
    {
     "data": {
      "text/plain": [
       "['Americ', '']"
      ]
     },
     "execution_count": 33,
     "metadata": {},
     "output_type": "execute_result"
    }
   ],
   "source": [
    "loc = \"America\"\n",
    "\n",
    "loc.split('a')"
   ]
  },
  {
   "cell_type": "markdown",
   "metadata": {},
   "source": [
    "So... what happened? We basically told Python that whenever it gets a lower case 'a' to split the string into chunks. Since 'Americ' doesn't contain a lower case letter, it never broke. When it reached the lower case 'a' is did and ignores that value. Python then looked to see if something came after that lower case 'a', and since there was nothing it shows ''.\n",
    "\n",
    "Another example:"
   ]
  },
  {
   "cell_type": "code",
   "execution_count": 35,
   "metadata": {},
   "outputs": [
    {
     "data": {
      "text/plain": [
       "['I ', 'te ', 'n ', 'pple']"
      ]
     },
     "execution_count": 35,
     "metadata": {},
     "output_type": "execute_result"
    }
   ],
   "source": [
    "apple = \"I ate an apple\"\n",
    "apple.split('a')"
   ]
  },
  {
   "cell_type": "markdown",
   "metadata": {},
   "source": [
    "As you can see here, the same thing happened when we reach an 'a'. What about a space? You have two options!\n",
    "\n",
    "You can either use ' ' like what we did for replace or you can leave it blank. Python assumes that the default location you want to split the text is on a space."
   ]
  },
  {
   "cell_type": "code",
   "execution_count": 36,
   "metadata": {},
   "outputs": [
    {
     "data": {
      "text/plain": [
       "['I', 'ate', 'an', 'apple']"
      ]
     },
     "execution_count": 36,
     "metadata": {},
     "output_type": "execute_result"
    }
   ],
   "source": [
    "apple.split(' ')"
   ]
  },
  {
   "cell_type": "code",
   "execution_count": 37,
   "metadata": {},
   "outputs": [
    {
     "data": {
      "text/plain": [
       "['I', 'ate', 'an', 'apple']"
      ]
     },
     "execution_count": 37,
     "metadata": {},
     "output_type": "execute_result"
    }
   ],
   "source": [
    "apple.split()"
   ]
  },
  {
   "cell_type": "markdown",
   "metadata": {},
   "source": [
    "Did you notice the way it output is when we use the split method on the string? We have each letter seperated by a comma but it's all between square brackets. This is actually a **data structure** called a **list**. We'll get to this in a moment.\n",
    "\n",
    "First I want to show you how you can use loops with string (basics).\n",
    "\n",
    "**Loops and strings**\n",
    "\n",
    "Say I want to print each letter of a string on a new line: \n",
    "\n",
    "'M'\n",
    "\n",
    "'u'\n",
    "\n",
    "'s'\n",
    "\n",
    "'e'\n",
    "\n",
    "We'll use a for loop as it's easier. We tell Python we want to cycle to the end of the strings length using the len() method and each character we reach we print it out."
   ]
  },
  {
   "cell_type": "code",
   "execution_count": 39,
   "metadata": {},
   "outputs": [
    {
     "name": "stdout",
     "output_type": "stream",
     "text": [
      "M\n",
      "u\n",
      "s\n",
      "e\n"
     ]
    }
   ],
   "source": [
    "for i in range(len(band)):\n",
    "    print(band[i])"
   ]
  },
  {
   "cell_type": "markdown",
   "metadata": {},
   "source": [
    "**Side note:** Why didn't this raise an error with the length. Since the length of the band is 4 letters, why didn't Python say we went beyond the length of the string that's there? This is because the range() function only lets you go up to the length of band in this case but it never runs band[4] (this doesn't exist anyway). Say it did run, what would happen? This would cause an error called an **Out of Bounds Exception** meaning we went beyond the boundaries that are there. If something is of length 4, you can't go beyond the the index of the final character i.e. 3.\n",
    "\n",
    "**One more example:**  \n",
    "\n",
    "Say I want to print the string in reverse using a string. Well, we'd use a while loop for that. We'd tell Python to look at the final character index and print backwards from that. We'll use the \"I ate an apple\" example."
   ]
  },
  {
   "cell_type": "code",
   "execution_count": 40,
   "metadata": {},
   "outputs": [
    {
     "name": "stdout",
     "output_type": "stream",
     "text": [
      "e\n",
      "l\n",
      "p\n",
      "p\n",
      "a\n",
      " \n",
      "n\n",
      "a\n",
      " \n",
      "e\n",
      "t\n",
      "a\n",
      " \n",
      "I\n"
     ]
    }
   ],
   "source": [
    "apple_len = len(apple)-1\n",
    "\n",
    "while apple_len >= 0:\n",
    "    print(apple[apple_len])\n",
    "    # decrement a value of the length so we get closer to the start\n",
    "    apple_len-=1"
   ]
  },
  {
   "cell_type": "markdown",
   "metadata": {},
   "source": [
    "Pretty cool? So say I want the above to be on a single line. You can do this by creating an empty string and always adding the current letter to that string."
   ]
  },
  {
   "cell_type": "code",
   "execution_count": 42,
   "metadata": {},
   "outputs": [
    {
     "name": "stdout",
     "output_type": "stream",
     "text": [
      "elppa na eta I\n"
     ]
    }
   ],
   "source": [
    "rev_apple = ''\n",
    "\n",
    "apple_len = len(apple)-1\n",
    "\n",
    "while apple_len >= 0:\n",
    "    # add the current letter to the new string\n",
    "    rev_apple+=apple[apple_len]\n",
    "    # decrement a value of the length so we get closer to the start\n",
    "    apple_len-=1\n",
    "    \n",
    "print(rev_apple)"
   ]
  },
  {
   "cell_type": "markdown",
   "metadata": {},
   "source": [
    "As you can see, you can add pieces of data to the end of a string and store the value.\n",
    "\n",
    "Earlier I mentions lists, and they're pretty common.\n",
    "\n",
    "# Lists\n",
    "\n",
    "Lists, quite simply, are a collection of variables. That's it. You can have a list full of strings, integers, floats or booleans or all of them together. These's no restriction on them. You can then have lists within lists and objects which we'll get to later.\n",
    "\n",
    "How is a list formed? \n",
    "\n",
    "It's a set of square brackets with each value seperated by a comma."
   ]
  },
  {
   "cell_type": "code",
   "execution_count": 43,
   "metadata": {},
   "outputs": [],
   "source": [
    "mylist = ['a', 5, True]"
   ]
  },
  {
   "cell_type": "code",
   "execution_count": 44,
   "metadata": {},
   "outputs": [
    {
     "data": {
      "text/plain": [
       "['a', 5, True]"
      ]
     },
     "execution_count": 44,
     "metadata": {},
     "output_type": "execute_result"
    }
   ],
   "source": [
    "mylist"
   ]
  },
  {
   "cell_type": "markdown",
   "metadata": {},
   "source": [
    "When we write the name of the list, we get back all of the values within the list. So, what if you want to access certain elements within the list? Well, it's exactly the same as strings. Lists have indexes too and we access them using square brackets. Remember the index begins at 0!!"
   ]
  },
  {
   "cell_type": "code",
   "execution_count": 45,
   "metadata": {},
   "outputs": [
    {
     "data": {
      "text/plain": [
       "'a'"
      ]
     },
     "execution_count": 45,
     "metadata": {},
     "output_type": "execute_result"
    }
   ],
   "source": [
    "mylist[0]"
   ]
  },
  {
   "cell_type": "code",
   "execution_count": 46,
   "metadata": {},
   "outputs": [
    {
     "data": {
      "text/plain": [
       "5"
      ]
     },
     "execution_count": 46,
     "metadata": {},
     "output_type": "execute_result"
    }
   ],
   "source": [
    "mylist[1]"
   ]
  },
  {
   "cell_type": "markdown",
   "metadata": {},
   "source": [
    "Another cool feature of lists is that we can use some of the functions that are available to strings such as length.\n",
    "\n",
    "**Quick tip** - say I want to only access the last element in a list. We know that it works off indexing like a string but instead of writing len(string/list)-1 we can simply write the name of out list or string and in the square brackets we write -1. This returns the value at the length -1. It's just a short cut. This works for other number, not just -1 e.g. -2, -5, etc."
   ]
  },
  {
   "cell_type": "code",
   "execution_count": 2,
   "metadata": {},
   "outputs": [],
   "source": [
    "mylist = ['b', 'w1', 'Mr. Robot', 'Westworld', 80, True]"
   ]
  },
  {
   "cell_type": "code",
   "execution_count": 3,
   "metadata": {},
   "outputs": [
    {
     "data": {
      "text/plain": [
       "True"
      ]
     },
     "execution_count": 3,
     "metadata": {},
     "output_type": "execute_result"
    }
   ],
   "source": [
    "mylist[-1]"
   ]
  },
  {
   "cell_type": "code",
   "execution_count": 4,
   "metadata": {},
   "outputs": [
    {
     "data": {
      "text/plain": [
       "'Mr. Robot'"
      ]
     },
     "execution_count": 4,
     "metadata": {},
     "output_type": "execute_result"
    }
   ],
   "source": [
    "mylist[-4]"
   ]
  },
  {
   "cell_type": "markdown",
   "metadata": {},
   "source": [
    "So, when we create a list we write a variable name, then equals, square brackets, and then fill it with what ever we want, comma seperated of course. But what if I have an empty list or a list that already has values but I want to add values to the list, or remove values from it. We have built in methods we can use for that called append() and pop().\n",
    "\n",
    "**append()** obviously appends values to the list but adds them at the end (right-most position).\n",
    "\n",
    "**pop()** will remove a value from list at the end (last value entered) but if we give it an index in the parenthesis then we will \"pop\" the character out of the list at that index."
   ]
  },
  {
   "cell_type": "code",
   "execution_count": 5,
   "metadata": {},
   "outputs": [],
   "source": [
    "# this is my empty list where we'll store the different types of fruit we have\n",
    "\n",
    "fruit = []"
   ]
  },
  {
   "cell_type": "code",
   "execution_count": 6,
   "metadata": {},
   "outputs": [
    {
     "data": {
      "text/plain": [
       "[]"
      ]
     },
     "execution_count": 6,
     "metadata": {},
     "output_type": "execute_result"
    }
   ],
   "source": [
    "fruit"
   ]
  },
  {
   "cell_type": "markdown",
   "metadata": {},
   "source": [
    "As you see, the list is empty. Lets start adding fruit (God I'm so lame... fruit?)"
   ]
  },
  {
   "cell_type": "code",
   "execution_count": 7,
   "metadata": {},
   "outputs": [],
   "source": [
    "fruit.append(\"apples\")"
   ]
  },
  {
   "cell_type": "code",
   "execution_count": 8,
   "metadata": {},
   "outputs": [],
   "source": [
    "fruit.append(\"oranges\")"
   ]
  },
  {
   "cell_type": "code",
   "execution_count": 9,
   "metadata": {},
   "outputs": [
    {
     "data": {
      "text/plain": [
       "['apples', 'oranges']"
      ]
     },
     "execution_count": 9,
     "metadata": {},
     "output_type": "execute_result"
    }
   ],
   "source": [
    "fruit"
   ]
  },
  {
   "cell_type": "markdown",
   "metadata": {},
   "source": [
    "Now, what about popping."
   ]
  },
  {
   "cell_type": "code",
   "execution_count": 10,
   "metadata": {},
   "outputs": [
    {
     "data": {
      "text/plain": [
       "'oranges'"
      ]
     },
     "execution_count": 10,
     "metadata": {},
     "output_type": "execute_result"
    }
   ],
   "source": [
    "fruit.pop()"
   ]
  },
  {
   "cell_type": "markdown",
   "metadata": {},
   "source": [
    "As you can see, when the pop() method ran we got an output with the string oranges. When you run the pop() method, what it does is it returns the value that has been popped (you don't have to do anything with this variable, if you want to store it you can but if you don't then just leave it as fruit.pop()). \n",
    "\n",
    "What about popping at certain indexes?"
   ]
  },
  {
   "cell_type": "code",
   "execution_count": 11,
   "metadata": {},
   "outputs": [],
   "source": [
    "fruit.append(\"apples\")\n",
    "fruit.append(\"bananas\")\n",
    "fruit.append(\"peaches\")\n",
    "fruit.append(\"grapefruit\")"
   ]
  },
  {
   "cell_type": "code",
   "execution_count": 12,
   "metadata": {},
   "outputs": [
    {
     "data": {
      "text/plain": [
       "['apples', 'apples', 'bananas', 'peaches', 'grapefruit']"
      ]
     },
     "execution_count": 12,
     "metadata": {},
     "output_type": "execute_result"
    }
   ],
   "source": [
    "fruit"
   ]
  },
  {
   "cell_type": "code",
   "execution_count": 13,
   "metadata": {},
   "outputs": [
    {
     "data": {
      "text/plain": [
       "'bananas'"
      ]
     },
     "execution_count": 13,
     "metadata": {},
     "output_type": "execute_result"
    }
   ],
   "source": [
    "fruit.pop(2)"
   ]
  },
  {
   "cell_type": "code",
   "execution_count": 14,
   "metadata": {},
   "outputs": [
    {
     "data": {
      "text/plain": [
       "['apples', 'apples', 'peaches', 'grapefruit']"
      ]
     },
     "execution_count": 14,
     "metadata": {},
     "output_type": "execute_result"
    }
   ],
   "source": [
    "fruit"
   ]
  },
  {
   "cell_type": "markdown",
   "metadata": {},
   "source": [
    "As you see, we popped a value at position 2 which was 'bananas'.\n",
    "\n",
    "You may be like do can we only append one value at a time; well... yes and no. The append() function only appends one value or data structure (you can append lists within lists!) but what if you have mutliple values to add?\n",
    "\n",
    "You have 2 options, you can either write a loop to handle that for you or you can use the 'extend()' method.\n",
    "\n",
    "It just extends the list with whatever values you give it. The extends method expects a list when you give it a value and it will go through each value in that list you gave it and append each value to the list you want to add them to."
   ]
  },
  {
   "cell_type": "code",
   "execution_count": 15,
   "metadata": {},
   "outputs": [],
   "source": [
    "numbers = [1,2,3,4]\n",
    "\n",
    "numbers.extend([5,6,7])\n",
    "\n",
    "remainder = [8,9,10]\n",
    "\n",
    "numbers.extend(remainder)"
   ]
  },
  {
   "cell_type": "code",
   "execution_count": 16,
   "metadata": {},
   "outputs": [
    {
     "data": {
      "text/plain": [
       "[1, 2, 3, 4, 5, 6, 7, 8, 9, 10]"
      ]
     },
     "execution_count": 16,
     "metadata": {},
     "output_type": "execute_result"
    }
   ],
   "source": [
    "numbers"
   ]
  },
  {
   "cell_type": "code",
   "execution_count": 17,
   "metadata": {},
   "outputs": [],
   "source": [
    "# we can also give it ranges too\n",
    "\n",
    "numbers.extend(range(11,16))"
   ]
  },
  {
   "cell_type": "code",
   "execution_count": 18,
   "metadata": {},
   "outputs": [
    {
     "data": {
      "text/plain": [
       "[1, 2, 3, 4, 5, 6, 7, 8, 9, 10, 11, 12, 13, 14, 15]"
      ]
     },
     "execution_count": 18,
     "metadata": {},
     "output_type": "execute_result"
    }
   ],
   "source": [
    "numbers"
   ]
  },
  {
   "cell_type": "markdown",
   "metadata": {},
   "source": [
    "# Nested Lists\n",
    "\n",
    "Nested lists as you can guess are lists within lists. We would generally do this for when we have many data structures that are all related to a give topic, object, piece of functionality, etc. "
   ]
  },
  {
   "cell_type": "code",
   "execution_count": 19,
   "metadata": {},
   "outputs": [],
   "source": [
    "# this is our base list\n",
    "base = [1,2,3]\n",
    "# this is the list we want to add to base\n",
    "appender = [\"Stephen King\", \"The Last of Us\", \"Mass Effect\", \"Jean Baudrillard\"]\n",
    "\n",
    "# we can append lists the same way as we did variables, using the append() method.\n",
    "base.append(appender)"
   ]
  },
  {
   "cell_type": "code",
   "execution_count": 20,
   "metadata": {},
   "outputs": [
    {
     "data": {
      "text/plain": [
       "[1,\n",
       " 2,\n",
       " 3,\n",
       " ['Stephen King', 'The Last of Us', 'Mass Effect', 'Jean Baudrillard']]"
      ]
     },
     "execution_count": 20,
     "metadata": {},
     "output_type": "execute_result"
    }
   ],
   "source": [
    "base"
   ]
  },
  {
   "cell_type": "markdown",
   "metadata": {},
   "source": [
    "See, now in the position -1 or 3, we have a list in its place.\n",
    "\n",
    "**Tip**, you don't use extends in this scenario because extends takes all the values and adds them to the list when what we wanted was the list to be added itself.\n",
    "\n",
    "This is what you would've gotten using extends"
   ]
  },
  {
   "cell_type": "code",
   "execution_count": 22,
   "metadata": {},
   "outputs": [
    {
     "data": {
      "text/plain": [
       "[1, 2, 3, 'Stephen King', 'The Last of Us', 'Mass Effect', 'Jean Baudrillard']"
      ]
     },
     "execution_count": 22,
     "metadata": {},
     "output_type": "execute_result"
    }
   ],
   "source": [
    "something_something = [1,2,3]\n",
    "something_something.extend(appender)\n",
    "something_something"
   ]
  },
  {
   "cell_type": "markdown",
   "metadata": {},
   "source": [
    "Just just returns a single list, no nesting here.\n",
    "\n",
    "Working with the nested list, how do you access the values within it? It's actually the same as accessing a string, we just add a square bracket for the dimension we want to enter.\n",
    "\n",
    "Say I want to get 'The Last of Us' string, we have to work top level to lower level (look out, then look in). \n",
    "\n",
    "We see it's the 3 position or length-1. If we types base[-1] then we'd get the list that's there."
   ]
  },
  {
   "cell_type": "code",
   "execution_count": 23,
   "metadata": {},
   "outputs": [
    {
     "data": {
      "text/plain": [
       "['Stephen King', 'The Last of Us', 'Mass Effect', 'Jean Baudrillard']"
      ]
     },
     "execution_count": 23,
     "metadata": {},
     "output_type": "execute_result"
    }
   ],
   "source": [
    "base[-1]"
   ]
  },
  {
   "cell_type": "markdown",
   "metadata": {},
   "source": [
    "Cool! And since we know 'The Last of Us' is positon 1."
   ]
  },
  {
   "cell_type": "code",
   "execution_count": 24,
   "metadata": {},
   "outputs": [
    {
     "data": {
      "text/plain": [
       "2"
      ]
     },
     "execution_count": 24,
     "metadata": {},
     "output_type": "execute_result"
    }
   ],
   "source": [
    "base[1]"
   ]
  },
  {
   "cell_type": "markdown",
   "metadata": {},
   "source": [
    "Why didn't we get what we wanted? Well it's because 2 is the 2nd position in the base list. It thinks we're looking at the outer section of the list. To look inward, add the extra square brackets."
   ]
  },
  {
   "cell_type": "code",
   "execution_count": 25,
   "metadata": {},
   "outputs": [
    {
     "data": {
      "text/plain": [
       "'The Last of Us'"
      ]
     },
     "execution_count": 25,
     "metadata": {},
     "output_type": "execute_result"
    }
   ],
   "source": [
    "# since we know we're dealing with the third position and 2nd of inner list\n",
    "base[3][1]"
   ]
  },
  {
   "cell_type": "markdown",
   "metadata": {},
   "source": [
    "There you got. You can also get the length of that inner list but pointing to it with the len() function"
   ]
  },
  {
   "cell_type": "code",
   "execution_count": 26,
   "metadata": {},
   "outputs": [
    {
     "data": {
      "text/plain": [
       "4"
      ]
     },
     "execution_count": 26,
     "metadata": {},
     "output_type": "execute_result"
    }
   ],
   "source": [
    "len(base[3])"
   ]
  },
  {
   "cell_type": "code",
   "execution_count": 27,
   "metadata": {},
   "outputs": [
    {
     "data": {
      "text/plain": [
       "'Jean Baudrillard'"
      ]
     },
     "execution_count": 27,
     "metadata": {},
     "output_type": "execute_result"
    }
   ],
   "source": [
    "# if we want the last value from it\n",
    "base[-1][-1]"
   ]
  },
  {
   "cell_type": "markdown",
   "metadata": {},
   "source": [
    "You can also use lists with loops like before.\n",
    "\n",
    "Simple **example** of adding 3 values to the list."
   ]
  },
  {
   "cell_type": "code",
   "execution_count": 29,
   "metadata": {},
   "outputs": [
    {
     "name": "stdout",
     "output_type": "stream",
     "text": [
      "Enter a value: 5\n",
      "Enter a value: Daniel\n",
      "Enter a value: 18.2\n"
     ]
    }
   ],
   "source": [
    "temp = []\n",
    "\n",
    "for i in range(3):\n",
    "    val = input(\"Enter a value: \")\n",
    "    temp.append(val)"
   ]
  },
  {
   "cell_type": "code",
   "execution_count": 30,
   "metadata": {},
   "outputs": [
    {
     "data": {
      "text/plain": [
       "['5', 'Daniel', '18.2']"
      ]
     },
     "execution_count": 30,
     "metadata": {},
     "output_type": "execute_result"
    }
   ],
   "source": [
    "temp"
   ]
  },
  {
   "cell_type": "markdown",
   "metadata": {},
   "source": [
    "And that's that. Remember that everything in the list is a string because Python does all reading as a string. \n",
    "\n",
    "Say we asked the user to only enter integers, what would happen? We'd get an error once we hit the name as it's something that can't be converted to an integer."
   ]
  },
  {
   "cell_type": "code",
   "execution_count": null,
   "metadata": {},
   "outputs": [],
   "source": []
  }
 ],
 "metadata": {
  "kernelspec": {
   "display_name": "Python 3",
   "language": "python",
   "name": "python3"
  },
  "language_info": {
   "codemirror_mode": {
    "name": "ipython",
    "version": 3
   },
   "file_extension": ".py",
   "mimetype": "text/x-python",
   "name": "python",
   "nbconvert_exporter": "python",
   "pygments_lexer": "ipython3",
   "version": "3.6.5"
  }
 },
 "nbformat": 4,
 "nbformat_minor": 2
}
